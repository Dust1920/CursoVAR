{
 "cells": [
  {
   "cell_type": "code",
   "execution_count": 34,
   "metadata": {},
   "outputs": [
    {
     "data": {
      "text/plain": [
       "array([[ 0,  1,  2,  3,  4,  5,  6,  7,  8],\n",
       "       [ 9, 10, 11, 12, 13, 14, 15, 16, 17],\n",
       "       [18, 19, 20, 21, 22, 23, 24, 25, 26],\n",
       "       [27, 28, 29, 30, 31, 32, 33, 34, 35],\n",
       "       [36, 37, 38, 39, 40, 41, 42, 43, 44],\n",
       "       [45, 46, 47, 48, 49, 50, 51, 52, 53],\n",
       "       [54, 55, 56, 57, 58, 59, 60, 61, 62]])"
      ]
     },
     "execution_count": 34,
     "metadata": {},
     "output_type": "execute_result"
    }
   ],
   "source": [
    "import numpy as np\n",
    "\n",
    "\n",
    "hcells = 9\n",
    "vcells = 7\n",
    "\n",
    "\n",
    "\n",
    "state_space = np.zeros(shape= (vcells, hcells))\n",
    "\n",
    "\n",
    "def campo(states, regions):\n",
    "    for k, x in regions.items():\n",
    "        for p in x:\n",
    "            states[p] = k\n",
    "    return states\n",
    "\n",
    "\n",
    "regions = {\n",
    "    2: [(0,0),(0,1),(0,2)],\n",
    "    3: [(1,0),(1,1),(1,2)],\n",
    "    4: [(2,0),(2,1),(2,2)],\n",
    "    5: [(3,0),(3,1),(3,2)],\n",
    "    6: [(4,0),(4,1),(4,2)],\n",
    "    7: [(5,0),(5,1),(5,2)],\n",
    "    8: [(6,0),(6,1),(6,2)],\n",
    "    9: [(0,3),(0,4),(0,5)],\n",
    "    1000: [(vcells // 2, 0), (vcells // 2, -1)],\n",
    "    1: [(vcells // 2, hcells // 2)]\n",
    "}\n",
    "\n",
    "board = state_space.copy()\n",
    "for i in range(vcells):\n",
    "    for j in range(hcells):\n",
    "        board[i,j] = i*hcells + j\n",
    "board = board.astype(int)\n",
    "\n",
    "\n",
    "\n",
    "\n",
    "\n",
    "board"
   ]
  },
  {
   "cell_type": "code",
   "execution_count": 35,
   "metadata": {},
   "outputs": [
    {
     "name": "stdout",
     "output_type": "stream",
     "text": [
      "21\n",
      "39\n",
      "52\n",
      "57\n",
      "34\n",
      "31\n",
      "15\n",
      "24\n",
      "28\n",
      "45\n",
      "43\n",
      "14\n",
      "5\n",
      "41\n",
      "8\n",
      "44\n",
      "41\n",
      "50\n",
      "31\n",
      "14\n"
     ]
    }
   ],
   "source": [
    "for _ in range(20):\n",
    "    x = np.random.randint(0,hcells)\n",
    "    y = np.random.randint(0,vcells)\n",
    "    print(board[y,x])"
   ]
  }
 ],
 "metadata": {
  "kernelspec": {
   "display_name": "ISAF",
   "language": "python",
   "name": "python3"
  },
  "language_info": {
   "codemirror_mode": {
    "name": "ipython",
    "version": 3
   },
   "file_extension": ".py",
   "mimetype": "text/x-python",
   "name": "python",
   "nbconvert_exporter": "python",
   "pygments_lexer": "ipython3",
   "version": "3.10.14"
  }
 },
 "nbformat": 4,
 "nbformat_minor": 2
}
